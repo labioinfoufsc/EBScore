{
  "nbformat": 4,
  "nbformat_minor": 0,
  "metadata": {
    "colab": {
      "provenance": []
    },
    "kernelspec": {
      "name": "python3",
      "display_name": "Python 3"
    },
    "language_info": {
      "name": "python"
    }
  },
  "cells": [
    {
      "cell_type": "code",
      "source": [
        "import numpy as np\n",
        "import pandas as pd\n",
        "import matplotlib.pyplot as plt\n",
        "import seaborn as sns\n",
        "from sklearn.model_selection import train_test_split\n",
        "from sklearn.metrics import recall_score, roc_curve, auc, accuracy_score, f1_score, confusion_matrix\n",
        "from sklearn.tree import DecisionTreeClassifier\n",
        "from sklearn import tree"
      ],
      "metadata": {
        "id": "J7fU2lF1dJqP"
      },
      "execution_count": null,
      "outputs": []
    },
    {
      "cell_type": "code",
      "source": [
        "class_names = ['IEDB_Tryp', 'UNIPROT_RANDOM']\n",
        "feature_names = [\"Starting_Position\", \"Ending_Position\", \"Bepipred3\", \"Emini\", \"Kolaskar\", \"ChouFosman\", \"KarplusSchulz\", \"Parker\", \"MW\", \"IP\", \"Hydropathy\"]"
      ],
      "metadata": {
        "id": "3eOMnrnhgc-O"
      },
      "execution_count": null,
      "outputs": []
    },
    {
      "cell_type": "code",
      "execution_count": null,
      "metadata": {
        "id": "jL7a8UcmdH9b"
      },
      "outputs": [],
      "source": [
        "class DecisionTree:\n",
        "  def __init__(self):\n",
        "      self.model = None\n",
        "\n",
        "  def train(self, X_train, y_train, height):\n",
        "      self.model = DecisionTreeClassifier(criterion = 'entropy', max_depth = height, random_state = 0)\n",
        "      self.model.fit(X_train, y_train)\n",
        "\n",
        "  def predict(self, X_test):\n",
        "      if self.model is None:\n",
        "          raise Exception(\"Model not trained yet. Please train the model first.\")\n",
        "      return self.model.predict(X_test)"
      ]
    },
    {
      "cell_type": "code",
      "source": [
        "def evaluate(y_true, y_pred):\n",
        "    # Accuracy\n",
        "    accuracy = accuracy_score(y_true, y_pred)\n",
        "    print(\"Accuracy:\", accuracy)\n",
        "\n",
        "    # Recall (Sensibilidade)\n",
        "    recall = recall_score(y_true, y_pred, pos_label=class_names[0])\n",
        "    print(\"Recall (Sensitivity) for '\" + class_names[0] + \"':\", recall)\n",
        "\n",
        "    recall = recall_score(y_true, y_pred, pos_label=class_names[1])\n",
        "    print(\"Recall (Sensitivity) for '\" + class_names[1] + \"':\", recall)\n",
        "\n",
        "    # Especificidade\n",
        "    tn, fp, fn, tp = confusion_matrix(y_true, y_pred).ravel()\n",
        "    specificity = tn / (tn + fp)\n",
        "    print(\"Specificity:\", specificity)\n",
        "\n",
        "    # F1-Score\n",
        "    f1 = f1_score(y_true, y_pred, average=\"weighted\")\n",
        "    print(\"F1 Score:\", f1)\n",
        "\n",
        "    # Matriz de Confusão\n",
        "    cm = confusion_matrix(y_true, y_pred)\n",
        "    plt.figure(figsize=(8, 6))\n",
        "    sns.heatmap(cm, annot=True, cmap=\"Blues\", fmt=\"g\")\n",
        "    plt.xlabel(\"Predicted labels\")\n",
        "    plt.ylabel(\"True labels\")\n",
        "    plt.title(\"Confusion Matrix\")\n",
        "    plt.show()"
      ],
      "metadata": {
        "id": "P0_Dr3Kmnpc9"
      },
      "execution_count": null,
      "outputs": []
    },
    {
      "cell_type": "code",
      "source": [
        "# Função para carregar o dataset\n",
        "def load_dataset(file_path):\n",
        "    # Carregar o dataset separado por tab\n",
        "    df = pd.read_csv(file_path, sep=\"\\t\")\n",
        "\n",
        "    df.head()\n",
        "\n",
        "    # Verifica o shape dos dados\n",
        "    print(f\"This dataset has {df.shape[0]} rows and {df.shape[1]} columns.\\n\")\n",
        "\n",
        "    # Resumo Estatístico dos dados\n",
        "    df.describe()\n",
        "\n",
        "    # Remover as colunas 'id' e 'Name'\n",
        "    df = df.drop([\"id\", \"Name\"], axis=1)\n",
        "\n",
        "    # Definir a coluna que contém os rótulos / classes alvo\n",
        "    target_column = \"grupo\"\n",
        "\n",
        "    # Separar features e labels\n",
        "    X = df.drop(target_column, axis=1)\n",
        "    y = df[target_column]\n",
        "\n",
        "    # Dividir o conjunto de dados em treino e teste\n",
        "    X_train, X_test, y_train, y_test = train_test_split(\n",
        "        X, y, test_size=0.30, random_state=1, stratify=y\n",
        "    )\n",
        "\n",
        "    # Verifica as proporções de classes nos dados\n",
        "    print(\"### Proporção de Classes em Treino ###\")\n",
        "    print(\n",
        "        f\"Porcentagem de entradas Classe 0: {y_train.value_counts(normalize=True).values[0] * 100}%\"\n",
        "    )\n",
        "    print(\n",
        "        f\"Porcentagem de entradas Classe 1: {y_train.value_counts(normalize=True).values[1] * 100}%\"\n",
        "    )\n",
        "    print()\n",
        "\n",
        "    print(\"### Proporção de Classes em Teste ###\")\n",
        "    print(\n",
        "        f\"Porcentagem de entradas Classe 0: {y_test.value_counts(normalize=True).values[0] * 100}%\"\n",
        "    )\n",
        "    print(\n",
        "        f\"Porcentagem de entradas Classe 1: {y_test.value_counts(normalize=True).values[1] * 100}%\"\n",
        "    )\n",
        "    print()\n",
        "\n",
        "    return X_train, X_test, y_train, y_test"
      ],
      "metadata": {
        "id": "wgl5OTRynoac"
      },
      "execution_count": null,
      "outputs": []
    },
    {
      "cell_type": "code",
      "source": [
        "if __name__ == \"__main__\":\n",
        "  model = DecisionTree()\n",
        "\n",
        "  # Carregar o dataset\n",
        "  file_path = \"dataset.csv\"\n",
        "  X_train, X_test, y_train, y_test = load_dataset(file_path)\n",
        "\n",
        "  # Criar e treinar o modelo\n",
        "  model.train(X_train, y_train, 20)\n",
        "\n",
        "  # Fazer previsões no conjunto de teste\n",
        "  y_pred = model.predict(X_test)\n",
        "\n",
        "  # Avaliar o modelo\n",
        "  evaluate(y_test, y_pred)"
      ],
      "metadata": {
        "colab": {
          "base_uri": "https://localhost:8080/",
          "height": 824
        },
        "id": "0P6FYeN_dOSk",
        "outputId": "0893a897-f660-4ebd-f23f-27c15263e5ac"
      },
      "execution_count": null,
      "outputs": [
        {
          "output_type": "stream",
          "name": "stdout",
          "text": [
            "This dataset has 4288 rows and 14 columns.\n",
            "\n",
            "### Proporção de Classes em Treino ###\n",
            "Porcentagem de entradas Classe 0: 53.51549483505498%\n",
            "Porcentagem de entradas Classe 1: 46.48450516494502%\n",
            "\n",
            "### Proporção de Classes em Teste ###\n",
            "Porcentagem de entradas Classe 0: 53.535353535353536%\n",
            "Porcentagem de entradas Classe 1: 46.464646464646464%\n",
            "\n",
            "Accuracy: 0.933954933954934\n",
            "Recall (Sensitivity) for 'IEDB_Tryp': 0.9448476052249637\n",
            "Recall (Sensitivity) for 'UNIPROT_RANDOM': 0.9214046822742475\n",
            "Specificity: 0.9448476052249637\n",
            "F1 Score: 0.9339188299227027\n"
          ]
        },
        {
          "output_type": "display_data",
          "data": {
            "text/plain": [
              "<Figure size 800x600 with 2 Axes>"
            ],
            "image/png": "[encoded data removed]"
          },
          "metadata": {}
        }
      ]
    }
  ]
}